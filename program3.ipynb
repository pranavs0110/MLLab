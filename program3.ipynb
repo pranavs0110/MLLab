{
 "cells": [
  {
   "cell_type": "code",
   "execution_count": 2,
   "metadata": {},
   "outputs": [],
   "source": [
    "# Import Libraries\n",
    "import pandas as pd\n",
    "import numpy as np\n",
    "import matplotlib.pyplot as plt\n",
    "from sklearn.model_selection import cross_val_score\n",
    "from sklearn.neighbors import KNeighborsClassifier\n",
    "from sklearn.preprocessing import LabelEncoder, StandardScaler\n",
    "from sklearn.metrics import classification_report\n"
   ]
  },
  {
   "cell_type": "code",
   "execution_count": 3,
   "metadata": {},
   "outputs": [
    {
     "name": "stdout",
     "output_type": "stream",
     "text": [
      "Dataset Overview:\n",
      "  PetType    Breed  AgeMonths    Size   WeightKg  TimeInShelterDays  \\\n",
      "0  Rabbit   Rabbit      116.0  Medium  29.186575               71.0   \n",
      "1     Cat  Siamese      165.0  Medium  25.265161               52.0   \n",
      "2     Cat  Siamese        NaN   Small        NaN                NaN   \n",
      "3  Rabbit   Rabbit       31.0   Large   6.641891               52.0   \n",
      "4  Rabbit   Rabbit      125.0   Large  13.845579               39.0   \n",
      "\n",
      "   AdoptionLikelihood  \n",
      "0                   0  \n",
      "1                   0  \n",
      "2                   0  \n",
      "3                   0  \n",
      "4                   0  \n"
     ]
    }
   ],
   "source": [
    "# Load Dataset\n",
    "data_path = r\"C:\\Users\\prana\\OneDrive\\Documents\\6th Sem\\ML Lab\\unclean_pet_data.csv\"\n",
    "data = pd.read_csv(data_path)\n",
    "\n",
    "# Display Dataset Overview\n",
    "print(\"Dataset Overview:\")\n",
    "print(data.head())"
   ]
  },
  {
   "cell_type": "code",
   "execution_count": 4,
   "metadata": {},
   "outputs": [
    {
     "name": "stdout",
     "output_type": "stream",
     "text": [
      "\n",
      "Missing Values After Imputation:\n",
      "PetType               561\n",
      "Breed                 561\n",
      "AgeMonths               0\n",
      "Size                  561\n",
      "WeightKg                0\n",
      "TimeInShelterDays       0\n",
      "AdoptionLikelihood      0\n",
      "dtype: int64\n"
     ]
    }
   ],
   "source": [
    "# Replace non-numeric placeholders like 'x' with NaN\n",
    "data = data.apply(pd.to_numeric, errors='coerce')\n",
    "\n",
    "data.fillna(data.mean(numeric_only=True), inplace=True)\n",
    "\n",
    "# Check for missing values\n",
    "print(\"\\nMissing Values After Imputation:\")\n",
    "print(data.isnull().sum())\n"
   ]
  },
  {
   "cell_type": "code",
   "execution_count": 5,
   "metadata": {},
   "outputs": [
    {
     "name": "stdout",
     "output_type": "stream",
     "text": [
      "\n",
      "Cleaned Dataset:\n",
      "   PetType  Breed   AgeMonths  Size   WeightKg  TimeInShelterDays  \\\n",
      "0      NaN    NaN  116.000000   NaN  29.186575          71.000000   \n",
      "1      NaN    NaN  165.000000   NaN  25.265161          52.000000   \n",
      "2      NaN    NaN   92.918812   NaN  16.425149          43.071287   \n",
      "3      NaN    NaN   31.000000   NaN   6.641891          52.000000   \n",
      "4      NaN    NaN  125.000000   NaN  13.845579          39.000000   \n",
      "\n",
      "   AdoptionLikelihood  \n",
      "0                   0  \n",
      "1                   0  \n",
      "2                   0  \n",
      "3                   0  \n",
      "4                   0  \n"
     ]
    }
   ],
   "source": [
    "# Encode Categorical Variables\n",
    "le = LabelEncoder()\n",
    "categorical_cols = data.select_dtypes(include=['object']).columns\n",
    "\n",
    "for col in categorical_cols:\n",
    "    data[col] = le.fit_transform(data[col])\n",
    "\n",
    "# Display the cleaned dataset\n",
    "print(\"\\nCleaned Dataset:\")\n",
    "print(data.head())\n"
   ]
  },
  {
   "cell_type": "code",
   "execution_count": 6,
   "metadata": {},
   "outputs": [
    {
     "name": "stdout",
     "output_type": "stream",
     "text": [
      "\n",
      "Shape of Features (X): (561, 6)\n",
      "Shape of Target (y): (561,)\n"
     ]
    },
    {
     "name": "stderr",
     "output_type": "stream",
     "text": [
      "C:\\Users\\prana\\AppData\\Local\\Packages\\PythonSoftwareFoundation.Python.3.10_qbz5n2kfra8p0\\LocalCache\\local-packages\\Python310\\site-packages\\sklearn\\utils\\extmath.py:1101: RuntimeWarning: invalid value encountered in divide\n",
      "  updated_mean = (last_sum + new_sum) / updated_sample_count\n",
      "C:\\Users\\prana\\AppData\\Local\\Packages\\PythonSoftwareFoundation.Python.3.10_qbz5n2kfra8p0\\LocalCache\\local-packages\\Python310\\site-packages\\sklearn\\utils\\extmath.py:1106: RuntimeWarning: invalid value encountered in divide\n",
      "  T = new_sum / new_sample_count\n",
      "C:\\Users\\prana\\AppData\\Local\\Packages\\PythonSoftwareFoundation.Python.3.10_qbz5n2kfra8p0\\LocalCache\\local-packages\\Python310\\site-packages\\sklearn\\utils\\extmath.py:1126: RuntimeWarning: invalid value encountered in divide\n",
      "  new_unnormalized_variance -= correction**2 / new_sample_count\n"
     ]
    }
   ],
   "source": [
    "# Define Features and Target\n",
    "X = data.drop('AdoptionLikelihood', axis=1)  # Adjust 'AdoptionLikelihood' to your target column name\n",
    "y = data['AdoptionLikelihood']\n",
    "\n",
    "# Scale Features\n",
    "scaler = StandardScaler()\n",
    "X = scaler.fit_transform(X)\n",
    "\n",
    "# Confirm shape of features and target\n",
    "print(\"\\nShape of Features (X):\", X.shape)\n",
    "print(\"Shape of Target (y):\", y.shape)\n"
   ]
  },
  {
   "cell_type": "code",
   "execution_count": 7,
   "metadata": {},
   "outputs": [
    {
     "name": "stderr",
     "output_type": "stream",
     "text": [
      "C:\\Users\\prana\\AppData\\Local\\Packages\\PythonSoftwareFoundation.Python.3.10_qbz5n2kfra8p0\\LocalCache\\local-packages\\Python310\\site-packages\\sklearn\\impute\\_base.py:635: UserWarning: Skipping features without any observed values: ['PetType' 'Breed' 'Size']. At least one non-missing value is needed for imputation with strategy='mean'.\n",
      "  warnings.warn(\n"
     ]
    },
    {
     "data": {
      "image/png": "[encoded data removed]",
      "text/plain": [
       "<Figure size 640x480 with 1 Axes>"
      ]
     },
     "metadata": {},
     "output_type": "display_data"
    }
   ],
   "source": [
    "from sklearn.model_selection import cross_val_score\n",
    "from sklearn.neighbors import KNeighborsClassifier\n",
    "from sklearn.impute import SimpleImputer\n",
    "from sklearn.preprocessing import StandardScaler\n",
    "\n",
    "# Define Features (X) and Target (y)\n",
    "X = data.drop('AdoptionLikelihood', axis=1)  # Adjust target column name as needed\n",
    "y = data['AdoptionLikelihood']\n",
    "\n",
    "# Handle Missing Values in Features\n",
    "imputer = SimpleImputer(strategy='mean')\n",
    "X = imputer.fit_transform(X)\n",
    "\n",
    "# Standardize Features\n",
    "scaler = StandardScaler()\n",
    "X = scaler.fit_transform(X)\n",
    "\n",
    "# Perform KNN and Cross-Validation\n",
    "k_values = range(1, 11)  # K values from 1 to 10\n",
    "mean_accuracies = []\n",
    "\n",
    "for k in k_values:\n",
    "    knn = KNeighborsClassifier(n_neighbors=k)\n",
    "    scores = cross_val_score(knn, X, y, cv=5, scoring='accuracy')  # 5-fold cross-validation\n",
    "    mean_accuracies.append(scores.mean())\n",
    "\n",
    "# Plot Performance\n",
    "import matplotlib.pyplot as plt\n",
    "plt.plot(k_values, mean_accuracies, marker='o')\n",
    "plt.title(\"KNN Performance with Cross-Validation\")\n",
    "plt.xlabel(\"Number of Neighbors (K)\")\n",
    "plt.ylabel(\"Mean Accuracy\")\n",
    "plt.grid()\n",
    "plt.show()\n"
   ]
  },
  {
   "cell_type": "code",
   "execution_count": 8,
   "metadata": {},
   "outputs": [
    {
     "name": "stdout",
     "output_type": "stream",
     "text": [
      "Optimal K: 2\n",
      "Highest Accuracy: 0.6667\n",
      "\n",
      "Classification Report:\n",
      "              precision    recall  f1-score   support\n",
      "\n",
      "           0       0.75      1.00      0.86       374\n",
      "           1       1.00      0.33      0.50       187\n",
      "\n",
      "    accuracy                           0.78       561\n",
      "   macro avg       0.87      0.67      0.68       561\n",
      "weighted avg       0.83      0.78      0.74       561\n",
      "\n"
     ]
    }
   ],
   "source": [
    "# Find Optimal K\n",
    "optimal_k = k_values[np.argmax(mean_accuracies)]\n",
    "print(f\"Optimal K: {optimal_k}\")\n",
    "print(f\"Highest Accuracy: {max(mean_accuracies):.4f}\")\n",
    "\n",
    "# Train Model with Optimal K\n",
    "knn = KNeighborsClassifier(n_neighbors=optimal_k)\n",
    "knn.fit(X, y)  # Fit the model on the entire dataset (or use train-test split for validation)\n",
    "\n",
    "# Predict and Evaluate\n",
    "y_pred = knn.predict(X)\n",
    "\n",
    "# Display Classification Report\n",
    "print(\"\\nClassification Report:\")\n",
    "print(classification_report(y, y_pred))\n"
   ]
  },
  {
   "cell_type": "code",
   "execution_count": 9,
   "metadata": {},
   "outputs": [
    {
     "name": "stdout",
     "output_type": "stream",
     "text": [
      "   PetType  Breed   AgeMonths  Size   WeightKg  TimeInShelterDays  \\\n",
      "0      NaN    NaN  116.000000   NaN  29.186575          71.000000   \n",
      "1      NaN    NaN  165.000000   NaN  25.265161          52.000000   \n",
      "2      NaN    NaN   92.918812   NaN  16.425149          43.071287   \n",
      "3      NaN    NaN   31.000000   NaN   6.641891          52.000000   \n",
      "4      NaN    NaN  125.000000   NaN  13.845579          39.000000   \n",
      "\n",
      "   AdoptionLikelihood  \n",
      "0                   0  \n",
      "1                   0  \n",
      "2                   0  \n",
      "3                   0  \n",
      "4                   0  \n"
     ]
    }
   ],
   "source": [
    "from sklearn.preprocessing import OneHotEncoder\n",
    "from sklearn.impute import SimpleImputer\n",
    "\n",
    "# Ensure categorical columns are correctly selected and are of type 'object'\n",
    "categorical_columns = data.select_dtypes(include=['object']).columns\n",
    "\n",
    "# If categorical columns exist, proceed with imputation and one-hot encoding\n",
    "if len(categorical_columns) > 0:\n",
    "    # Handle missing values for categorical columns (impute with the most frequent value)\n",
    "    categorical_imputer = SimpleImputer(strategy='most_frequent')\n",
    "    data[categorical_columns] = categorical_imputer.fit_transform(data[categorical_columns])\n",
    "\n",
    "    # One-Hot Encoding for categorical columns to make them numeric\n",
    "    one_hot_encoder = OneHotEncoder(sparse_output=False)\n",
    "    encoded_data = pd.DataFrame(one_hot_encoder.fit_transform(data[categorical_columns]),\n",
    "                                columns=one_hot_encoder.get_feature_names_out(categorical_columns))\n",
    "\n",
    "    # Concatenate the encoded data with the original dataset (excluding original categorical columns)\n",
    "    data = pd.concat([data, encoded_data], axis=1)\n",
    "\n",
    "    # Drop the original categorical columns after encoding\n",
    "    data.drop(columns=categorical_columns, inplace=True)\n",
    "\n",
    "# Display the final transformed dataset\n",
    "print(data.head())\n"
   ]
  },
  {
   "cell_type": "code",
   "execution_count": 10,
   "metadata": {},
   "outputs": [
    {
     "name": "stdout",
     "output_type": "stream",
     "text": [
      "   PetType  Breed   AgeMonths  Size   WeightKg  TimeInShelterDays  \\\n",
      "0      NaN    NaN  116.000000   NaN  29.186575          71.000000   \n",
      "1      NaN    NaN  165.000000   NaN  25.265161          52.000000   \n",
      "2      NaN    NaN   92.918812   NaN  16.425149          43.071287   \n",
      "3      NaN    NaN   31.000000   NaN   6.641891          52.000000   \n",
      "4      NaN    NaN  125.000000   NaN  13.845579          39.000000   \n",
      "\n",
      "   AdoptionLikelihood  \n",
      "0                   0  \n",
      "1                   0  \n",
      "2                   0  \n",
      "3                   0  \n",
      "4                   0  \n"
     ]
    }
   ],
   "source": [
    "from sklearn.preprocessing import LabelEncoder\n",
    "from sklearn.impute import SimpleImputer\n",
    "\n",
    "# Ensure categorical columns are correctly selected and are of type 'object'\n",
    "categorical_columns = data.select_dtypes(include=['object']).columns\n",
    "\n",
    "# If categorical columns exist, proceed with imputation and label encoding\n",
    "if len(categorical_columns) > 0:\n",
    "    # Handle missing values for categorical columns (impute with the most frequent value)\n",
    "    categorical_imputer = SimpleImputer(strategy='most_frequent')\n",
    "    data[categorical_columns] = categorical_imputer.fit_transform(data[categorical_columns])\n",
    "\n",
    "    # Label Encoding for categorical columns to make them numeric\n",
    "    label_encoder = LabelEncoder()\n",
    "    \n",
    "    # Apply label encoding to each categorical column\n",
    "    for column in categorical_columns:\n",
    "        data[column] = label_encoder.fit_transform(data[column])\n",
    "\n",
    "# Display the final transformed dataset\n",
    "print(data.head())\n"
   ]
  }
 ],
 "metadata": {
  "kernelspec": {
   "display_name": "Python 3",
   "language": "python",
   "name": "python3"
  },
  "language_info": {
   "codemirror_mode": {
    "name": "ipython",
    "version": 3
   },
   "file_extension": ".py",
   "mimetype": "text/x-python",
   "name": "python",
   "nbconvert_exporter": "python",
   "pygments_lexer": "ipython3",
   "version": "3.10.11"
  }
 },
 "nbformat": 4,
 "nbformat_minor": 2
}
